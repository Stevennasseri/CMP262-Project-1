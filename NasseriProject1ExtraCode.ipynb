{
 "cells": [
  {
   "cell_type": "markdown",
   "metadata": {},
   "source": [
    "## Extra code for project cleanup"
   ]
  },
  {
   "cell_type": "code",
   "execution_count": null,
   "metadata": {},
   "outputs": [],
   "source": [
    "## make a bar graph of the ages of the students who answered the survey\n",
    "plt.bar(['18 and younger', '19-20', '21-24', '25-34', '35-64', '65+'], \n",
    "        df1['Age'].value_counts())\n",
    "plt.title('Age of students who answered the survey - df1')"
   ]
  },
  {
   "cell_type": "code",
   "execution_count": null,
   "metadata": {},
   "outputs": [],
   "source": [
    "# bar graph of how many students answered the survey from each class in df1\n",
    "plt.bar(['CMP_128', 'CMP_131', 'CMP_239', 'CMP_130', 'CMP_120'], \n",
    "        df1['current_course'].value_counts())\n",
    "plt.title('number of students who answered the survey from each class - df1')"
   ]
  },
  {
   "cell_type": "code",
   "execution_count": null,
   "metadata": {},
   "outputs": [],
   "source": [
    "## bar graph of the age of students who answered the survey from each class in df2\n",
    "plt.bar(['18 and younger', '19-20', '21-24', '25-34', '35-64'], \n",
    "        df2['Age'].value_counts())\n",
    "plt.title('Age of students who answered the survey - df2')"
   ]
  },
  {
   "cell_type": "code",
   "execution_count": null,
   "metadata": {},
   "outputs": [],
   "source": [
    "# bar graph of how many students answered the survey from each class in df2\n",
    "plt.bar(['CMP_135', 'CMP_101', 'CMP_126'], \n",
    "        df2['current_course'].value_counts())\n",
    "plt.title('number of students who answered the survey from each class - df2')"
   ]
  },
  {
   "cell_type": "code",
   "execution_count": null,
   "metadata": {},
   "outputs": [],
   "source": []
  }
 ],
 "metadata": {
  "kernelspec": {
   "display_name": "base",
   "language": "python",
   "name": "python3"
  },
  "language_info": {
   "name": "python",
   "version": "3.11.4"
  }
 },
 "nbformat": 4,
 "nbformat_minor": 2
}
