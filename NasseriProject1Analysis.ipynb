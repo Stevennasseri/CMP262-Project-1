{
 "cells": [
  {
   "cell_type": "markdown",
   "id": "5855bd6a412ac765",
   "metadata": {
    "collapsed": false
   },
   "source": [
    "# Analysis\n",
    "### Steven Nasseri\n",
    "### 10-11-23"
   ]
  },
  {
   "cell_type": "markdown",
   "id": "e6e318f3bd6a4e07",
   "metadata": {
    "collapsed": false
   },
   "source": [
    "##### bring in cleaned cvs files"
   ]
  },
  {
   "cell_type": "code",
   "execution_count": 141,
   "id": "5fec0eb2fce918a3",
   "metadata": {
    "ExecuteTime": {
     "end_time": "2023-10-17T22:42:21.456337Z",
     "start_time": "2023-10-17T22:42:20.935854Z"
    },
    "collapsed": false
   },
   "outputs": [],
   "source": [
    "# import neccisary packages\n",
    "import pandas as pd\n",
    "import matplotlib.pyplot as plt"
   ]
  },
  {
   "cell_type": "code",
   "execution_count": 142,
   "id": "c7787ef4a0abf283",
   "metadata": {
    "ExecuteTime": {
     "end_time": "2023-10-17T22:42:21.472513Z",
     "start_time": "2023-10-17T22:42:21.457467Z"
    },
    "collapsed": false
   },
   "outputs": [],
   "source": [
    "# read in the data files\n",
    "df1 = pd.read_csv('cleanedDataFile1.csv')\n",
    "df2 = pd.read_csv('cleanedDataFile2.csv')"
   ]
  },
  {
   "cell_type": "code",
   "execution_count": 143,
   "id": "7f210dfab5a13aa2",
   "metadata": {
    "ExecuteTime": {
     "end_time": "2023-10-17T22:42:21.496464Z",
     "start_time": "2023-10-17T22:42:21.476566Z"
    },
    "collapsed": false
   },
   "outputs": [
    {
     "data": {
      "text/html": [
       "<div>\n",
       "<style scoped>\n",
       "    .dataframe tbody tr th:only-of-type {\n",
       "        vertical-align: middle;\n",
       "    }\n",
       "\n",
       "    .dataframe tbody tr th {\n",
       "        vertical-align: top;\n",
       "    }\n",
       "\n",
       "    .dataframe thead th {\n",
       "        text-align: right;\n",
       "    }\n",
       "</style>\n",
       "<table border=\"1\" class=\"dataframe\">\n",
       "  <thead>\n",
       "    <tr style=\"text-align: right;\">\n",
       "      <th></th>\n",
       "      <th>current_course</th>\n",
       "      <th>ccm_influence[ccm_website]</th>\n",
       "      <th>ccm_influence[ccm_socials]</th>\n",
       "      <th>ccm_influence[ccm_event]</th>\n",
       "      <th>ccm_influence[family_friends]</th>\n",
       "      <th>ccm_influence[ccm_student]</th>\n",
       "      <th>ccm_influence[ccm_alumni]</th>\n",
       "      <th>ccm_influence[high_school_teacher]</th>\n",
       "      <th>ccm_influence[high_school_counselor]</th>\n",
       "      <th>ccm_influence[in_app_ads]</th>\n",
       "      <th>...</th>\n",
       "      <th>computing_program_discovery[employer]</th>\n",
       "      <th>computing_program_discovery[ccm_workforce_development]</th>\n",
       "      <th>computing_program_discovery[nj_workforce_development]</th>\n",
       "      <th>computing_program_discovery[other]</th>\n",
       "      <th>computing_first_choice</th>\n",
       "      <th>interest_level</th>\n",
       "      <th>explanation</th>\n",
       "      <th>Gender</th>\n",
       "      <th>Race/ethnicity</th>\n",
       "      <th>Age</th>\n",
       "    </tr>\n",
       "  </thead>\n",
       "  <tbody>\n",
       "    <tr>\n",
       "      <th>0</th>\n",
       "      <td>CMP 128 Computer Science I</td>\n",
       "      <td>Yes</td>\n",
       "      <td>Yes</td>\n",
       "      <td>Yes</td>\n",
       "      <td>Yes</td>\n",
       "      <td>No</td>\n",
       "      <td>No</td>\n",
       "      <td>Yes</td>\n",
       "      <td>Yes</td>\n",
       "      <td>No</td>\n",
       "      <td>...</td>\n",
       "      <td>No</td>\n",
       "      <td>No</td>\n",
       "      <td>No</td>\n",
       "      <td>No</td>\n",
       "      <td>First Choice</td>\n",
       "      <td>NaN</td>\n",
       "      <td>NaN</td>\n",
       "      <td>Man</td>\n",
       "      <td>White/Caucasian</td>\n",
       "      <td>19-20</td>\n",
       "    </tr>\n",
       "    <tr>\n",
       "      <th>1</th>\n",
       "      <td>NaN</td>\n",
       "      <td>No</td>\n",
       "      <td>No</td>\n",
       "      <td>No</td>\n",
       "      <td>No</td>\n",
       "      <td>Yes</td>\n",
       "      <td>No</td>\n",
       "      <td>No</td>\n",
       "      <td>No</td>\n",
       "      <td>No</td>\n",
       "      <td>...</td>\n",
       "      <td>No</td>\n",
       "      <td>No</td>\n",
       "      <td>No</td>\n",
       "      <td>No</td>\n",
       "      <td>First Choice</td>\n",
       "      <td>NaN</td>\n",
       "      <td>NaN</td>\n",
       "      <td>Man</td>\n",
       "      <td>White/Caucasian</td>\n",
       "      <td>25-34</td>\n",
       "    </tr>\n",
       "    <tr>\n",
       "      <th>2</th>\n",
       "      <td>CMP 128 Computer Science I</td>\n",
       "      <td>No</td>\n",
       "      <td>No</td>\n",
       "      <td>No</td>\n",
       "      <td>No</td>\n",
       "      <td>No</td>\n",
       "      <td>No</td>\n",
       "      <td>Yes</td>\n",
       "      <td>Yes</td>\n",
       "      <td>No</td>\n",
       "      <td>...</td>\n",
       "      <td>NaN</td>\n",
       "      <td>NaN</td>\n",
       "      <td>NaN</td>\n",
       "      <td>NaN</td>\n",
       "      <td>NaN</td>\n",
       "      <td>1.0</td>\n",
       "      <td>Im really only taking this class for the requi...</td>\n",
       "      <td>Woman</td>\n",
       "      <td>White/Caucasian</td>\n",
       "      <td>19-20</td>\n",
       "    </tr>\n",
       "    <tr>\n",
       "      <th>3</th>\n",
       "      <td>CMP 128 Computer Science I</td>\n",
       "      <td>No</td>\n",
       "      <td>No</td>\n",
       "      <td>Yes</td>\n",
       "      <td>No</td>\n",
       "      <td>Yes</td>\n",
       "      <td>No</td>\n",
       "      <td>No</td>\n",
       "      <td>No</td>\n",
       "      <td>No</td>\n",
       "      <td>...</td>\n",
       "      <td>No</td>\n",
       "      <td>No</td>\n",
       "      <td>No</td>\n",
       "      <td>No</td>\n",
       "      <td>First Choice</td>\n",
       "      <td>NaN</td>\n",
       "      <td>NaN</td>\n",
       "      <td>Man</td>\n",
       "      <td>Asian</td>\n",
       "      <td>18 and younger</td>\n",
       "    </tr>\n",
       "    <tr>\n",
       "      <th>4</th>\n",
       "      <td>CMP 128 Computer Science I</td>\n",
       "      <td>Yes</td>\n",
       "      <td>No</td>\n",
       "      <td>No</td>\n",
       "      <td>Yes</td>\n",
       "      <td>No</td>\n",
       "      <td>No</td>\n",
       "      <td>Yes</td>\n",
       "      <td>No</td>\n",
       "      <td>No</td>\n",
       "      <td>...</td>\n",
       "      <td>No</td>\n",
       "      <td>No</td>\n",
       "      <td>No</td>\n",
       "      <td>No</td>\n",
       "      <td>First Choice</td>\n",
       "      <td>NaN</td>\n",
       "      <td>NaN</td>\n",
       "      <td>Man</td>\n",
       "      <td>White/Caucasian</td>\n",
       "      <td>25-34</td>\n",
       "    </tr>\n",
       "  </tbody>\n",
       "</table>\n",
       "<p>5 rows × 91 columns</p>\n",
       "</div>"
      ],
      "text/plain": [
       "               current_course ccm_influence[ccm_website]  \\\n",
       "0  CMP 128 Computer Science I                        Yes   \n",
       "1                         NaN                         No   \n",
       "2  CMP 128 Computer Science I                         No   \n",
       "3  CMP 128 Computer Science I                         No   \n",
       "4  CMP 128 Computer Science I                        Yes   \n",
       "\n",
       "  ccm_influence[ccm_socials] ccm_influence[ccm_event]  \\\n",
       "0                        Yes                      Yes   \n",
       "1                         No                       No   \n",
       "2                         No                       No   \n",
       "3                         No                      Yes   \n",
       "4                         No                       No   \n",
       "\n",
       "  ccm_influence[family_friends] ccm_influence[ccm_student]  \\\n",
       "0                           Yes                         No   \n",
       "1                            No                        Yes   \n",
       "2                            No                         No   \n",
       "3                            No                        Yes   \n",
       "4                           Yes                         No   \n",
       "\n",
       "  ccm_influence[ccm_alumni] ccm_influence[high_school_teacher]  \\\n",
       "0                        No                                Yes   \n",
       "1                        No                                 No   \n",
       "2                        No                                Yes   \n",
       "3                        No                                 No   \n",
       "4                        No                                Yes   \n",
       "\n",
       "  ccm_influence[high_school_counselor] ccm_influence[in_app_ads]  ...  \\\n",
       "0                                  Yes                        No  ...   \n",
       "1                                   No                        No  ...   \n",
       "2                                  Yes                        No  ...   \n",
       "3                                   No                        No  ...   \n",
       "4                                   No                        No  ...   \n",
       "\n",
       "  computing_program_discovery[employer]  \\\n",
       "0                                    No   \n",
       "1                                    No   \n",
       "2                                   NaN   \n",
       "3                                    No   \n",
       "4                                    No   \n",
       "\n",
       "  computing_program_discovery[ccm_workforce_development]  \\\n",
       "0                                                 No       \n",
       "1                                                 No       \n",
       "2                                                NaN       \n",
       "3                                                 No       \n",
       "4                                                 No       \n",
       "\n",
       "  computing_program_discovery[nj_workforce_development]  \\\n",
       "0                                                 No      \n",
       "1                                                 No      \n",
       "2                                                NaN      \n",
       "3                                                 No      \n",
       "4                                                 No      \n",
       "\n",
       "  computing_program_discovery[other] computing_first_choice interest_level  \\\n",
       "0                                 No           First Choice            NaN   \n",
       "1                                 No           First Choice            NaN   \n",
       "2                                NaN                    NaN            1.0   \n",
       "3                                 No           First Choice            NaN   \n",
       "4                                 No           First Choice            NaN   \n",
       "\n",
       "                                         explanation Gender   Race/ethnicity  \\\n",
       "0                                                NaN    Man  White/Caucasian   \n",
       "1                                                NaN    Man  White/Caucasian   \n",
       "2  Im really only taking this class for the requi...  Woman  White/Caucasian   \n",
       "3                                                NaN    Man            Asian   \n",
       "4                                                NaN    Man  White/Caucasian   \n",
       "\n",
       "              Age  \n",
       "0           19-20  \n",
       "1           25-34  \n",
       "2           19-20  \n",
       "3  18 and younger  \n",
       "4           25-34  \n",
       "\n",
       "[5 rows x 91 columns]"
      ]
     },
     "execution_count": 143,
     "metadata": {},
     "output_type": "execute_result"
    }
   ],
   "source": [
    "df1.head()"
   ]
  },
  {
   "cell_type": "code",
   "execution_count": 144,
   "id": "5a6f23f0d7378a63",
   "metadata": {
    "ExecuteTime": {
     "end_time": "2023-10-17T22:42:21.499225Z",
     "start_time": "2023-10-17T22:42:21.490161Z"
    },
    "collapsed": false
   },
   "outputs": [
    {
     "data": {
      "text/html": [
       "<div>\n",
       "<style scoped>\n",
       "    .dataframe tbody tr th:only-of-type {\n",
       "        vertical-align: middle;\n",
       "    }\n",
       "\n",
       "    .dataframe tbody tr th {\n",
       "        vertical-align: top;\n",
       "    }\n",
       "\n",
       "    .dataframe thead th {\n",
       "        text-align: right;\n",
       "    }\n",
       "</style>\n",
       "<table border=\"1\" class=\"dataframe\">\n",
       "  <thead>\n",
       "    <tr style=\"text-align: right;\">\n",
       "      <th></th>\n",
       "      <th>current_course</th>\n",
       "      <th>ccm_influence[ccm_website]</th>\n",
       "      <th>ccm_influence[ccm_socials]</th>\n",
       "      <th>ccm_influence[ccm_event]</th>\n",
       "      <th>ccm_influence[family_friends]</th>\n",
       "      <th>ccm_influence[ccm_student]</th>\n",
       "      <th>ccm_influence[ccm_alumni]</th>\n",
       "      <th>ccm_influence[high_school_teacher]</th>\n",
       "      <th>ccm_influence[high_school_counselor]</th>\n",
       "      <th>ccm_influence[in_app_ads]</th>\n",
       "      <th>...</th>\n",
       "      <th>computing_program_discovery[employer]</th>\n",
       "      <th>computing_program_discovery[ccm_workforce_development]</th>\n",
       "      <th>computing_program_discovery[nj_workforce_development]</th>\n",
       "      <th>computing_program_discovery[other]</th>\n",
       "      <th>computing_first_choice</th>\n",
       "      <th>interest_level</th>\n",
       "      <th>explanation</th>\n",
       "      <th>Gender</th>\n",
       "      <th>Race/ethnicity</th>\n",
       "      <th>Age</th>\n",
       "    </tr>\n",
       "  </thead>\n",
       "  <tbody>\n",
       "    <tr>\n",
       "      <th>448</th>\n",
       "      <td>CMP 128 Computer Science I</td>\n",
       "      <td>No</td>\n",
       "      <td>No</td>\n",
       "      <td>No</td>\n",
       "      <td>Yes</td>\n",
       "      <td>No</td>\n",
       "      <td>Yes</td>\n",
       "      <td>Yes</td>\n",
       "      <td>Yes</td>\n",
       "      <td>No</td>\n",
       "      <td>...</td>\n",
       "      <td>No</td>\n",
       "      <td>No</td>\n",
       "      <td>No</td>\n",
       "      <td>No</td>\n",
       "      <td>exercise science</td>\n",
       "      <td>NaN</td>\n",
       "      <td>NaN</td>\n",
       "      <td>Man</td>\n",
       "      <td>mixed</td>\n",
       "      <td>19-20</td>\n",
       "    </tr>\n",
       "    <tr>\n",
       "      <th>449</th>\n",
       "      <td>CMP 128 Computer Science I</td>\n",
       "      <td>No</td>\n",
       "      <td>Yes</td>\n",
       "      <td>No</td>\n",
       "      <td>No</td>\n",
       "      <td>No</td>\n",
       "      <td>No</td>\n",
       "      <td>No</td>\n",
       "      <td>No</td>\n",
       "      <td>No</td>\n",
       "      <td>...</td>\n",
       "      <td>No</td>\n",
       "      <td>No</td>\n",
       "      <td>No</td>\n",
       "      <td>No</td>\n",
       "      <td>First Choice</td>\n",
       "      <td>NaN</td>\n",
       "      <td>NaN</td>\n",
       "      <td>Man</td>\n",
       "      <td>Hispanic_or_Latino</td>\n",
       "      <td>21-24</td>\n",
       "    </tr>\n",
       "    <tr>\n",
       "      <th>450</th>\n",
       "      <td>CMP 128 Computer Science I</td>\n",
       "      <td>Don't recall</td>\n",
       "      <td>No</td>\n",
       "      <td>No</td>\n",
       "      <td>No</td>\n",
       "      <td>Don't recall</td>\n",
       "      <td>Don't recall</td>\n",
       "      <td>Yes</td>\n",
       "      <td>Yes</td>\n",
       "      <td>No</td>\n",
       "      <td>...</td>\n",
       "      <td>No</td>\n",
       "      <td>No</td>\n",
       "      <td>No</td>\n",
       "      <td>Yes</td>\n",
       "      <td>Biology</td>\n",
       "      <td>NaN</td>\n",
       "      <td>NaN</td>\n",
       "      <td>Man</td>\n",
       "      <td>Multi-Racial</td>\n",
       "      <td>18 and younger</td>\n",
       "    </tr>\n",
       "    <tr>\n",
       "      <th>451</th>\n",
       "      <td>CMP 128 Computer Science I</td>\n",
       "      <td>No</td>\n",
       "      <td>No</td>\n",
       "      <td>No</td>\n",
       "      <td>Yes</td>\n",
       "      <td>No</td>\n",
       "      <td>No</td>\n",
       "      <td>No</td>\n",
       "      <td>No</td>\n",
       "      <td>No</td>\n",
       "      <td>...</td>\n",
       "      <td>No</td>\n",
       "      <td>No</td>\n",
       "      <td>No</td>\n",
       "      <td>Don't recall</td>\n",
       "      <td>First Choice</td>\n",
       "      <td>NaN</td>\n",
       "      <td>NaN</td>\n",
       "      <td>Man</td>\n",
       "      <td>White/Caucasian</td>\n",
       "      <td>19-20</td>\n",
       "    </tr>\n",
       "    <tr>\n",
       "      <th>452</th>\n",
       "      <td>CMP 128 Computer Science I</td>\n",
       "      <td>No</td>\n",
       "      <td>No</td>\n",
       "      <td>No</td>\n",
       "      <td>Yes</td>\n",
       "      <td>Yes</td>\n",
       "      <td>Yes</td>\n",
       "      <td>No</td>\n",
       "      <td>No</td>\n",
       "      <td>No</td>\n",
       "      <td>...</td>\n",
       "      <td>No</td>\n",
       "      <td>No</td>\n",
       "      <td>No</td>\n",
       "      <td>No</td>\n",
       "      <td>First Choice</td>\n",
       "      <td>NaN</td>\n",
       "      <td>NaN</td>\n",
       "      <td>Man</td>\n",
       "      <td>Black/African_American</td>\n",
       "      <td>18 and younger</td>\n",
       "    </tr>\n",
       "  </tbody>\n",
       "</table>\n",
       "<p>5 rows × 91 columns</p>\n",
       "</div>"
      ],
      "text/plain": [
       "                 current_course ccm_influence[ccm_website]  \\\n",
       "448  CMP 128 Computer Science I                         No   \n",
       "449  CMP 128 Computer Science I                         No   \n",
       "450  CMP 128 Computer Science I               Don't recall   \n",
       "451  CMP 128 Computer Science I                         No   \n",
       "452  CMP 128 Computer Science I                         No   \n",
       "\n",
       "    ccm_influence[ccm_socials] ccm_influence[ccm_event]  \\\n",
       "448                         No                       No   \n",
       "449                        Yes                       No   \n",
       "450                         No                       No   \n",
       "451                         No                       No   \n",
       "452                         No                       No   \n",
       "\n",
       "    ccm_influence[family_friends] ccm_influence[ccm_student]  \\\n",
       "448                           Yes                         No   \n",
       "449                            No                         No   \n",
       "450                            No               Don't recall   \n",
       "451                           Yes                         No   \n",
       "452                           Yes                        Yes   \n",
       "\n",
       "    ccm_influence[ccm_alumni] ccm_influence[high_school_teacher]  \\\n",
       "448                       Yes                                Yes   \n",
       "449                        No                                 No   \n",
       "450              Don't recall                                Yes   \n",
       "451                        No                                 No   \n",
       "452                       Yes                                 No   \n",
       "\n",
       "    ccm_influence[high_school_counselor] ccm_influence[in_app_ads]  ...  \\\n",
       "448                                  Yes                        No  ...   \n",
       "449                                   No                        No  ...   \n",
       "450                                  Yes                        No  ...   \n",
       "451                                   No                        No  ...   \n",
       "452                                   No                        No  ...   \n",
       "\n",
       "    computing_program_discovery[employer]  \\\n",
       "448                                    No   \n",
       "449                                    No   \n",
       "450                                    No   \n",
       "451                                    No   \n",
       "452                                    No   \n",
       "\n",
       "    computing_program_discovery[ccm_workforce_development]  \\\n",
       "448                                                 No       \n",
       "449                                                 No       \n",
       "450                                                 No       \n",
       "451                                                 No       \n",
       "452                                                 No       \n",
       "\n",
       "    computing_program_discovery[nj_workforce_development]  \\\n",
       "448                                                 No      \n",
       "449                                                 No      \n",
       "450                                                 No      \n",
       "451                                                 No      \n",
       "452                                                 No      \n",
       "\n",
       "    computing_program_discovery[other] computing_first_choice interest_level  \\\n",
       "448                                 No       exercise science            NaN   \n",
       "449                                 No           First Choice            NaN   \n",
       "450                                Yes                Biology            NaN   \n",
       "451                       Don't recall           First Choice            NaN   \n",
       "452                                 No           First Choice            NaN   \n",
       "\n",
       "    explanation Gender          Race/ethnicity             Age  \n",
       "448         NaN    Man                   mixed           19-20  \n",
       "449         NaN    Man      Hispanic_or_Latino           21-24  \n",
       "450         NaN    Man            Multi-Racial  18 and younger  \n",
       "451         NaN    Man         White/Caucasian           19-20  \n",
       "452         NaN    Man  Black/African_American  18 and younger  \n",
       "\n",
       "[5 rows x 91 columns]"
      ]
     },
     "execution_count": 144,
     "metadata": {},
     "output_type": "execute_result"
    }
   ],
   "source": [
    "df1.tail()"
   ]
  },
  {
   "cell_type": "markdown",
   "id": "8b2b79bbf5ea4a8b",
   "metadata": {
    "collapsed": false
   },
   "source": [
    "# DATA QUESTIONS\n",
    "\n",
    "## 1.\tWhich majors are preferred by which demographics? Which are least pursued? (either df)"
   ]
  },
  {
   "cell_type": "code",
   "execution_count": 146,
   "id": "ec53011b5f91c621",
   "metadata": {
    "ExecuteTime": {
     "end_time": "2023-10-17T22:42:21.866427Z",
     "start_time": "2023-10-17T22:42:21.846306Z"
    },
    "collapsed": false
   },
   "outputs": [
    {
     "data": {
      "text/plain": [
       "current_program\n",
       "Criminal Justice                      57\n",
       "Liberal Arts                          35\n",
       "radiography                           34\n",
       "Nursing                               23\n",
       "Exercise Science                      17\n",
       "education                             16\n",
       "Broadcasting Arts and Technology       8\n",
       "Communication                          7\n",
       "Music Technology                       6\n",
       "Not in a degree program                4\n",
       "psychology                             4\n",
       "Child and Family Studies               4\n",
       "biology                                3\n",
       "business                               3\n",
       "Public Health                          3\n",
       "Human Services                         2\n",
       "Theatre Technology                     2\n",
       "computer science                       1\n",
       "Sharetime Criminal Justice Program     1\n",
       "Journalism                             1\n",
       "World Language                         1\n",
       "Musical Theatre                        1\n",
       "Music recording                        1\n",
       "Fire Science Technologies              1\n",
       "Name: count, dtype: int64"
      ]
     },
     "execution_count": 146,
     "metadata": {},
     "output_type": "execute_result"
    }
   ],
   "source": [
    "# view current program counts\n",
    "df2['current_program'].value_counts()"
   ]
  },
  {
   "cell_type": "code",
   "execution_count": 147,
   "id": "e9e81f22680ff97d",
   "metadata": {
    "ExecuteTime": {
     "end_time": "2023-10-17T22:42:21.866696Z",
     "start_time": "2023-10-17T22:42:21.850733Z"
    },
    "collapsed": false
   },
   "outputs": [
    {
     "data": {
      "text/plain": [
       "current_program\n",
       "computer science                                                                                                                                           153\n",
       "engineering                                                                                                                                                 30\n",
       "ShareTime CSIP Program                                                                                                                                      26\n",
       "CIS Game Development Option                                                                                                                                 19\n",
       "Undecided                                                                                                                                                   19\n",
       "business                                                                                                                                                    13\n",
       "Non Degree seeking                                                                                                                                          11\n",
       "certificate program                                                                                                                                         10\n",
       "edam                                                                                                                                                         8\n",
       "Digital Media Technology                                                                                                                                     7\n",
       "Challenger Program                                                                                                                                           6\n",
       "Technical Studies, Applied Associate of Science                                                                                                              4\n",
       "MET                                                                                                                                                          3\n",
       "Liberal Arts                                                                                                                                                 3\n",
       "biology                                                                                                                                                      2\n",
       "highschool                                                                                                                                                   2\n",
       "Mathematics                                                                                                                                                  1\n",
       "Data Science                                                                                                                                                 1\n",
       "I am a student from MCVTS, and I am doing dual enrollment.                                                                                                   1\n",
       "Mec Tech                                                                                                                                                     1\n",
       "Visiting Student                                                                                                                                             1\n",
       "Gaining college credits for high school                                                                                                                      1\n",
       "Economics                                                                                                                                                    1\n",
       "Mech tech                                                                                                                                                    1\n",
       "Cybersecurity                                                                                                                                                1\n",
       "Morris Tech                                                                                                                                                  1\n",
       "Culinary Arts and Science                                                                                                                                    1\n",
       "nursing                                                                                                                                                      1\n",
       "Political Science                                                                                                                                            1\n",
       "Finance                                                                                                                                                      1\n",
       "Mechanical engineer of technology                                                                                                                            1\n",
       "education                                                                                                                                                    1\n",
       "Academy Student                                                                                                                                              1\n",
       "Liberal arts                                                                                                                                                 1\n",
       "didn't send professor screenshot                                                                                                                             1\n",
       "dont have one                                                                                                                                                1\n",
       "I am still a senior in high school (Morris County School of Technology) and my school offers a program that allows you to attend a CCM class or classes      1\n",
       "psychology                                                                                                                                                   1\n",
       "Music Recording                                                                                                                                              1\n",
       "Electrical Engineer                                                                                                                                          1\n",
       "Name: count, dtype: int64"
      ]
     },
     "execution_count": 147,
     "metadata": {},
     "output_type": "execute_result"
    }
   ],
   "source": [
    "df1['current_program'].value_counts()"
   ]
  },
  {
   "cell_type": "code",
   "execution_count": 148,
   "id": "1c472e19",
   "metadata": {},
   "outputs": [
    {
     "data": {
      "text/plain": [
       "current_program\n",
       "Criminal Justice                    57\n",
       "Liberal Arts                        35\n",
       "radiography                         34\n",
       "Nursing                             23\n",
       "Exercise Science                    17\n",
       "education                           16\n",
       "Broadcasting Arts and Technology     8\n",
       "Communication                        7\n",
       "Music Technology                     6\n",
       "Not in a degree program              4\n",
       "psychology                           4\n",
       "Child and Family Studies             4\n",
       "Name: count, dtype: int64"
      ]
     },
     "execution_count": 148,
     "metadata": {},
     "output_type": "execute_result"
    }
   ],
   "source": [
    "## Used github copilot here to help me learn this code\n",
    "df2['current_program'].value_counts()[df2['current_program'].value_counts() > 3]\n",
    "# this code takes the value counts of the current program column and then filters the values to get rid of instances that only occur once"
   ]
  },
  {
   "cell_type": "code",
   "execution_count": 149,
   "id": "8cba3f86ed239743",
   "metadata": {
    "ExecuteTime": {
     "end_time": "2023-10-17T22:42:21.956574Z",
     "start_time": "2023-10-17T22:42:21.854104Z"
    },
    "collapsed": false
   },
   "outputs": [
    {
     "data": {
      "text/plain": [
       "Text(0.5, 1.0, 'Number of students in each program - survey 2')"
      ]
     },
     "execution_count": 149,
     "metadata": {},
     "output_type": "execute_result"
    },
    {
     "data": {
      "image/png": "[encoded data removed]",
      "text/plain": [
       "<Figure size 640x480 with 1 Axes>"
      ]
     },
     "metadata": {},
     "output_type": "display_data"
    }
   ],
   "source": [
    "## the previous code can be applied here to get cleaner results for value counts graphs\n",
    "\n",
    "df2['current_program'].value_counts()[df2['current_program'].value_counts() > 3].plot(kind='bar')\n",
    "plt.title('Number of students in each program - survey 2')"
   ]
  },
  {
   "cell_type": "code",
   "execution_count": 150,
   "id": "20e1856847a6c0ea",
   "metadata": {
    "ExecuteTime": {
     "end_time": "2023-10-18T00:40:55.330259Z",
     "start_time": "2023-10-18T00:40:55.175447Z"
    },
    "collapsed": false
   },
   "outputs": [
    {
     "data": {
      "text/plain": [
       "Text(0.5, 1.0, 'Number of students in each program - survey 1')"
      ]
     },
     "execution_count": 150,
     "metadata": {},
     "output_type": "execute_result"
    },
    {
     "data": {
      "image/png": "[encoded data removed]",
      "text/plain": [
       "<Figure size 640x480 with 1 Axes>"
      ]
     },
     "metadata": {},
     "output_type": "display_data"
    }
   ],
   "source": [
    "df1['current_program'].value_counts()[df1['current_program'].value_counts() > 3].plot(kind='bar')\n",
    "plt.title('Number of students in each program - survey 1')\n"
   ]
  },
  {
   "cell_type": "markdown",
   "id": "65365e96eff51c65",
   "metadata": {
    "collapsed": false
   },
   "source": [
    "## subset out Both dfs based on race/ethnicity, gender, age, and major"
   ]
  },
  {
   "cell_type": "markdown",
   "id": "834c1335",
   "metadata": {},
   "source": [
    "### Df1"
   ]
  },
  {
   "cell_type": "markdown",
   "id": "31eff699",
   "metadata": {},
   "source": [
    "### It's Important to note that Df1 contains mostly computer science programs, which makes the data from that dataset touch to answer without subsetting out most of the group"
   ]
  },
  {
   "cell_type": "markdown",
   "id": "bf7165a4",
   "metadata": {},
   "source": [
    "### subsetting df1"
   ]
  },
  {
   "cell_type": "markdown",
   "id": "3364e4d5",
   "metadata": {},
   "source": [
    "#### ethnicity"
   ]
  },
  {
   "cell_type": "code",
   "execution_count": 151,
   "id": "08cd169f",
   "metadata": {
    "ExecuteTime": {
     "end_time": "2023-10-17T22:42:22.138186Z",
     "start_time": "2023-10-17T22:42:22.130977Z"
    }
   },
   "outputs": [],
   "source": [
    "## Make subsets for each ethnicity\n",
    "\n",
    "# make a new subset of df1 with only students who replied White/Caucasian\n",
    "df1_white = df1[df1['Race/ethnicity'] == 'White/Caucasian']\n",
    "\n",
    "# make a new subset of df1 to include only students who replied Hispanic_or_Latino\n",
    "df1_hispanic = df1[df1['Race/ethnicity'] == 'Hispanic_or_Latino']\n",
    "\n",
    "# make a new subset of df1 to include only students who replied Asian\n",
    "df1_asian = df1[df1['Race/ethnicity'] == 'Asian']\n",
    "\n",
    "# make a new subset of df1 to include only students who replied mixed\n",
    "df1_mixed = df1[df1['Race/ethnicity'] == 'mixed']\n",
    "\n",
    "# make a new subset of df1 to include only students who replied Black/African_American\n",
    "df1_african_american = df1[df1['Race/ethnicity'] == 'Black/African_American']"
   ]
  },
  {
   "cell_type": "markdown",
   "id": "e8b8669b",
   "metadata": {},
   "source": [
    "#### Gender"
   ]
  },
  {
   "cell_type": "code",
   "execution_count": 152,
   "id": "068d076b",
   "metadata": {
    "ExecuteTime": {
     "end_time": "2023-10-17T22:42:22.144206Z",
     "start_time": "2023-10-17T22:42:22.140621Z"
    }
   },
   "outputs": [],
   "source": [
    "# Make subsets for Gender\n",
    "\n",
    "# Subset for those who replied Man\n",
    "df1_men = df1[df1['Gender'] == 'Man']\n",
    "\n",
    "# Subset for those who replied Woman\n",
    "df1_women = df1[df1['Gender'] == 'Woman']"
   ]
  },
  {
   "cell_type": "markdown",
   "id": "2de86cd6",
   "metadata": {},
   "source": [
    "#### Age"
   ]
  },
  {
   "cell_type": "code",
   "execution_count": 153,
   "id": "5a487528",
   "metadata": {
    "ExecuteTime": {
     "end_time": "2023-10-17T22:42:22.226523Z",
     "start_time": "2023-10-17T22:42:22.150717Z"
    }
   },
   "outputs": [],
   "source": [
    "## Make subsets for each age group\n",
    "\n",
    "# Subset for those who replied 18 and younger\n",
    "df1_18_and_younger = df1[df1['Age'] == '18 and younger']\n",
    "\n",
    "# Subset for those who replied 19-20\n",
    "df1_19_20 = df1[df1['Age'] == '19-20']\n",
    "\n",
    "# Subset for those who replied 21-24\n",
    "df1_21_24 = df1[df1['Age'] == '21-24']\n",
    "\n",
    "# Subset for those who replied 25-34\n",
    "df1_25_34 = df1[df1['Age'] == '25-34']\n",
    "\n",
    "# Subset for those who replied 35-64\n",
    "df1_35_64 = df1[df1['Age'] == '35-64']\n",
    "\n",
    "# Subset for those who replied 65+\n",
    "df1_65_plus = df1[df1['Age'] == '65+']"
   ]
  },
  {
   "cell_type": "markdown",
   "id": "402ff60a",
   "metadata": {},
   "source": [
    "#### Major"
   ]
  },
  {
   "cell_type": "code",
   "execution_count": 154,
   "id": "3eeeb4cf",
   "metadata": {},
   "outputs": [
    {
     "data": {
      "text/plain": [
       "current_program\n",
       "computer science          153\n",
       "engineering                30\n",
       "ShareTime CSIP Program     26\n",
       "Name: count, dtype: int64"
      ]
     },
     "execution_count": 154,
     "metadata": {},
     "output_type": "execute_result"
    }
   ],
   "source": [
    "df1['current_program'].value_counts()[df1['current_program'].value_counts() > 20]"
   ]
  },
  {
   "cell_type": "code",
   "execution_count": 155,
   "id": "f25f1235",
   "metadata": {},
   "outputs": [],
   "source": [
    "## make subsets for popular programs\n",
    "\n",
    "# Subset for those who replied Computer Science. This is the most popular program with the next most polular having only around 30 occurrences\n",
    "df1_computer_science = df1[df1['current_program'] == 'computer science']\n",
    "\n",
    "# Subset for those who replied Engineering\n",
    "df1_engineering = df1[df1['current_program'] == 'engineering']\n",
    "\n",
    "# Subset for those who replied Sharetime CSIP program\n",
    "df1_sharetime_csip = df1[df1['current_program'] == 'Sharetime CSIP Program']\n"
   ]
  },
  {
   "cell_type": "markdown",
   "id": "8d058753",
   "metadata": {},
   "source": [
    "### analysis df1"
   ]
  },
  {
   "cell_type": "markdown",
   "id": "6ff832aa",
   "metadata": {},
   "source": [
    "##### displays how many students of each race are pursing what degree"
   ]
  },
  {
   "cell_type": "code",
   "execution_count": 156,
   "id": "79eeec64",
   "metadata": {},
   "outputs": [
    {
     "name": "stdout",
     "output_type": "stream",
     "text": [
      "COMP SCI\n",
      " Race/ethnicity\n",
      "White/Caucasian           59\n",
      "Hispanic_or_Latino        32\n",
      "Asian                     29\n",
      "mixed                     19\n",
      "Choose_not_to_reply        7\n",
      "Black/African_American     4\n",
      "Multi-Racial               3\n",
      "Name: count, dtype: int64 \n",
      "\n",
      " ENGINEERING\n",
      " Race/ethnicity\n",
      "White/Caucasian           15\n",
      "Hispanic_or_Latino         6\n",
      "mixed                      5\n",
      "Choose_not_to_reply        3\n",
      "Black/African_American     1\n",
      "Name: count, dtype: int64 \n",
      "\n",
      " SHARETIME\n",
      " Series([], Name: count, dtype: int64)\n"
     ]
    }
   ],
   "source": [
    "print(\n",
    "      \"COMP SCI\\n\", df1_computer_science['Race/ethnicity'].value_counts(), '\\n\\n',\n",
    "      \"ENGINEERING\\n\", df1_engineering['Race/ethnicity'].value_counts(), '\\n\\n',\n",
    "      \"SHARETIME\\n\", df1_sharetime_csip['Race/ethnicity'].value_counts()  ## Sharetime program doesn't return the with an issue and no content is displayed from it\n",
    ")"
   ]
  },
  {
   "cell_type": "markdown",
   "id": "6b171157",
   "metadata": {},
   "source": [
    "### DF2"
   ]
  },
  {
   "cell_type": "markdown",
   "id": "a81340b1",
   "metadata": {},
   "source": [
    "### subsetting df2"
   ]
  },
  {
   "cell_type": "markdown",
   "id": "fc5fccaa",
   "metadata": {},
   "source": [
    "#### Ethnicity"
   ]
  },
  {
   "cell_type": "code",
   "execution_count": 158,
   "id": "d4ce539a",
   "metadata": {
    "ExecuteTime": {
     "end_time": "2023-10-17T22:42:22.226593Z",
     "start_time": "2023-10-17T22:42:22.154415Z"
    }
   },
   "outputs": [],
   "source": [
    "## Make subsets for each ethnicity\n",
    "\n",
    "# make a new subset of df2 with only students who replied White/Caucasian\n",
    "df2_white = df2[df2['Race/ethnicity'] == 'White/Caucasian']\n",
    "\n",
    "# make a new subset of df2 to include only students who replied Hispanic_or_Latino\n",
    "df2_hispanic = df2[df2['Race/ethnicity'] == 'Hispanic_or_Latino']\n",
    "\n",
    "# make a new subset of df2 to include only students who replied Asian\n",
    "df2_asian = df2[df2['Race/ethnicity'] == 'Asian']\n",
    "\n",
    "# make a new subset of df2 to include only students who replied mixed\n",
    "df2_mixed = df2[df2['Race/ethnicity'] == 'mixed']\n",
    "\n",
    "# make a new subset of df2 to include only students who replied Black/African_American\n",
    "df2_african_american = df2[df2['Race/ethnicity'] == 'Black/African_American']"
   ]
  },
  {
   "cell_type": "markdown",
   "id": "277fc5c8",
   "metadata": {},
   "source": [
    "### Gender"
   ]
  },
  {
   "cell_type": "code",
   "execution_count": 159,
   "id": "36d0952d",
   "metadata": {
    "ExecuteTime": {
     "end_time": "2023-10-17T22:42:22.226652Z",
     "start_time": "2023-10-17T22:42:22.157805Z"
    }
   },
   "outputs": [],
   "source": [
    "# Make subsets for Gender\n",
    "\n",
    "# Subset for those who replied Man\n",
    "df2_men = df2[df2['Gender'] == 'Man']\n",
    "\n",
    "# Subset for those who replied Woman\n",
    "df2_women = df2[df2['Gender'] == 'Woman']"
   ]
  },
  {
   "cell_type": "markdown",
   "id": "6fa60dda",
   "metadata": {},
   "source": [
    "### Age"
   ]
  },
  {
   "cell_type": "code",
   "execution_count": 160,
   "id": "da66b03b",
   "metadata": {
    "ExecuteTime": {
     "end_time": "2023-10-17T22:42:22.226729Z",
     "start_time": "2023-10-17T22:42:22.161844Z"
    }
   },
   "outputs": [],
   "source": [
    "## Make subsets for each age group\n",
    "\n",
    "# Subset for those who replied 18 and younger\n",
    "df2_18_and_younger = df2[df2['Age'] == '18 and younger']\n",
    "\n",
    "# Subset for those who replied 19-20\n",
    "df2_19_20 = df2[df2['Age'] == '19-20']\n",
    "\n",
    "# Subset for those who replied 21-24\n",
    "df2_21_24 = df2[df2['Age'] == '21-24']\n",
    "\n",
    "# Subset for those who replied 25-34\n",
    "df2_25_34 = df2[df2['Age'] == '25-34']\n",
    "\n",
    "# Subset for those who replied 35-64\n",
    "df2_35_64 = df2[df2['Age'] == '35-64']\n",
    "\n",
    "# Subset for those who replied 65+\n",
    "df2_65_plus = df2[df2['Age'] == '65+']"
   ]
  },
  {
   "cell_type": "markdown",
   "id": "f4fd5248",
   "metadata": {},
   "source": [
    "#### Major"
   ]
  },
  {
   "cell_type": "code",
   "execution_count": 161,
   "id": "5dc51e93",
   "metadata": {},
   "outputs": [
    {
     "data": {
      "text/plain": [
       "current_program\n",
       "Criminal Justice    57\n",
       "Liberal Arts        35\n",
       "radiography         34\n",
       "Nursing             23\n",
       "Name: count, dtype: int64"
      ]
     },
     "execution_count": 161,
     "metadata": {},
     "output_type": "execute_result"
    }
   ],
   "source": [
    "df2['current_program'].value_counts()[df2['current_program'].value_counts() > 20]"
   ]
  },
  {
   "cell_type": "code",
   "execution_count": 162,
   "id": "09a03ea4",
   "metadata": {},
   "outputs": [],
   "source": [
    "## Make subsets for popular programs\n",
    "\n",
    "# Susbet for those who replied Criminal Justice\n",
    "df2_criminal_justice = df2[df2['current_program'] == 'Criminal Justice']\n",
    "\n",
    "# Susbet for those who replied liberal arts\n",
    "df2_liberal_arts = df2[df2['current_program'] == 'Liberal Arts']\n",
    "\n",
    "# Susbet for those who replied radiography\n",
    "df2_radiography = df2[df2['current_program'] == 'Radiography']\n",
    "\n",
    "# Subset for those who replied Nursing\n",
    "df2_nursing = df2[df2['current_program'] == 'Nursing']"
   ]
  },
  {
   "cell_type": "markdown",
   "id": "f5207443",
   "metadata": {},
   "source": [
    "### df2 analysis"
   ]
  },
  {
   "cell_type": "markdown",
   "id": "faf23cce",
   "metadata": {},
   "source": [
    "##### displays how many students of each race are pursing what degree"
   ]
  },
  {
   "cell_type": "code",
   "execution_count": 163,
   "id": "f783a6f8",
   "metadata": {},
   "outputs": [
    {
     "name": "stdout",
     "output_type": "stream",
     "text": [
      "CRIMINAL_JUSTICE\n",
      " Race/ethnicity\n",
      "White/Caucasian           26\n",
      "Hispanic or Latino        10\n",
      "mixed                      9\n",
      "Asian                      8\n",
      "Multi-Racial               2\n",
      "Black/African American     1\n",
      "Choose not to reply        1\n",
      "Name: count, dtype: int64 \n",
      "\n",
      " LIBERAL_ARTS\n",
      " Race/ethnicity\n",
      "White/Caucasian           14\n",
      "Hispanic or Latino         9\n",
      "mixed                      5\n",
      "Choose not to reply        4\n",
      "Black/African American     3\n",
      "Name: count, dtype: int64 \n",
      "\n",
      " RADIOGRAPHY\n",
      " Series([], Name: count, dtype: int64) \n",
      "\n",
      " NURSING\n",
      " Race/ethnicity\n",
      "White/Caucasian           10\n",
      "Hispanic or Latino         5\n",
      "Black/African American     3\n",
      "mixed                      2\n",
      "Choose not to reply        2\n",
      "Asian                      1\n",
      "Name: count, dtype: int64\n"
     ]
    }
   ],
   "source": [
    "print(\n",
    "    \"CRIMINAL_JUSTICE\\n\", df2_criminal_justice['Race/ethnicity'].value_counts(), \"\\n\\n\",\n",
    "    \"LIBERAL_ARTS\\n\", df2_liberal_arts['Race/ethnicity'].value_counts(), \"\\n\\n\",\n",
    "    \"RADIOGRAPHY\\n\", df2_radiography['Race/ethnicity'].value_counts(), \"\\n\\n\",  # Radiography returns with an issue and no content is displayed for it\n",
    "    \"NURSING\\n\", df2_nursing['Race/ethnicity'].value_counts()\n",
    ")"
   ]
  },
  {
   "cell_type": "code",
   "execution_count": 164,
   "id": "767e5836",
   "metadata": {},
   "outputs": [
    {
     "data": {
      "text/plain": [
       "Text(0.5, 1.0, 'Number of Men in each program - survey 2')"
      ]
     },
     "execution_count": 164,
     "metadata": {},
     "output_type": "execute_result"
    },
    {
     "data": {
      "image/png": "[encoded data removed]",
      "text/plain": [
       "<Figure size 640x480 with 1 Axes>"
      ]
     },
     "metadata": {},
     "output_type": "display_data"
    }
   ],
   "source": [
    "## we will use this dataset to analyze Gender because it has a more even distribution between men and women\n",
    "\n",
    "# Graph for men subset\n",
    "df2_men['current_program'].value_counts()[df2_men['current_program'].value_counts() >= 3].plot(kind='bar')\n",
    "plt.title('Number of Men in each program - survey 2')"
   ]
  },
  {
   "cell_type": "code",
   "execution_count": 165,
   "id": "bb68e8f7",
   "metadata": {},
   "outputs": [
    {
     "data": {
      "text/plain": [
       "Text(0.5, 1.0, 'Number of Women in each program - survey 2')"
      ]
     },
     "execution_count": 165,
     "metadata": {},
     "output_type": "execute_result"
    },
    {
     "data": {
      "image/png": "[encoded data removed]",
      "text/plain": [
       "<Figure size 640x480 with 1 Axes>"
      ]
     },
     "metadata": {},
     "output_type": "display_data"
    }
   ],
   "source": [
    "# Graph for women subset\n",
    "df2_women['current_program'].value_counts()[df2_women['current_program'].value_counts() >= 3].plot(kind='bar')\n",
    "plt.title('Number of Women in each program - survey 2')"
   ]
  },
  {
   "cell_type": "markdown",
   "id": "8b6c9301",
   "metadata": {},
   "source": [
    "### After reviewing the subsets to find possible useful information, I had trouble finding useful things, this is probably because df1 is almost all computer science majors or computing related degrees and certificates. as fr df2, when broken down nto these subsets, it was hard to gain good information because of the small amount of total entires. this question proved to be very challenging for me to find valuable information to privide as an answer"
   ]
  },
  {
   "cell_type": "markdown",
   "id": "90042ed3ac2eafeb",
   "metadata": {
    "collapsed": false
   },
   "source": [
    "## 2. How interested are the students in taking more computer science related classes? (the scale of 1-5 question) (either)"
   ]
  },
  {
   "cell_type": "code",
   "execution_count": 166,
   "id": "40846df3163241d",
   "metadata": {
    "ExecuteTime": {
     "end_time": "2023-10-17T22:48:30.628509Z",
     "start_time": "2023-10-17T22:48:30.573434Z"
    },
    "collapsed": false
   },
   "outputs": [
    {
     "data": {
      "text/plain": [
       "Text(0.5, 1.0, 'interest level of students who answered the survey - df1')"
      ]
     },
     "execution_count": 166,
     "metadata": {},
     "output_type": "execute_result"
    },
    {
     "data": {
      "image/png": "[encoded data removed]",
      "text/plain": [
       "<Figure size 640x480 with 1 Axes>"
      ]
     },
     "metadata": {},
     "output_type": "display_data"
    }
   ],
   "source": [
    "df1['interest_level'].value_counts()\n",
    "df1['interest_level'].value_counts().plot(kind='bar').set_title('interest level of students who answered the survey - df1')"
   ]
  },
  {
   "cell_type": "code",
   "execution_count": 167,
   "id": "43c9464cc5e543cb",
   "metadata": {
    "ExecuteTime": {
     "end_time": "2023-10-17T22:49:44.375840Z",
     "start_time": "2023-10-17T22:49:44.283922Z"
    },
    "collapsed": false
   },
   "outputs": [
    {
     "data": {
      "text/plain": [
       "Text(0.5, 1.0, 'interest level of students who answered the survey - df2')"
      ]
     },
     "execution_count": 167,
     "metadata": {},
     "output_type": "execute_result"
    },
    {
     "data": {
      "image/png": "[encoded data removed]",
      "text/plain": [
       "<Figure size 640x480 with 1 Axes>"
      ]
     },
     "metadata": {},
     "output_type": "display_data"
    }
   ],
   "source": [
    "df2['interest_level_cmp_it_game_dev'].value_counts()\n",
    "df2['interest_level_cmp_it_game_dev'].value_counts().plot(kind='bar').set_title('interest level of students who answered the survey - df2')"
   ]
  },
  {
   "cell_type": "markdown",
   "id": "e2153f779552f985",
   "metadata": {
    "collapsed": false
   },
   "source": [
    "### interestingly enough, while more students in df1 answered 4's and 5's for interest level, more students in df2 answered this question on the survey all together. it's important to note that the students in df1 were more commonly computer science majors who are already in the feild, while the students in df2 were more commonly people who were not in computing related majors"
   ]
  },
  {
   "cell_type": "code",
   "execution_count": 176,
   "id": "cbe14dbfb066f48c",
   "metadata": {
    "ExecuteTime": {
     "end_time": "2023-10-17T22:56:51.202780Z",
     "start_time": "2023-10-17T22:56:51.197119Z"
    },
    "collapsed": false
   },
   "outputs": [
    {
     "name": "stdout",
     "output_type": "stream",
     "text": [
      "MEN\n",
      " interest_level\n",
      "3.0    34\n",
      "4.0    29\n",
      "5.0    20\n",
      "2.0     6\n",
      "1.0     2\n",
      "Name: count, dtype: int64 \n",
      "\n",
      " WOMEN\n",
      " interest_level\n",
      "3.0    6\n",
      "4.0    5\n",
      "1.0    4\n",
      "5.0    4\n",
      "Name: count, dtype: int64\n"
     ]
    }
   ],
   "source": [
    "## compare men and women interest df1\n",
    "print(\n",
    "    \"MEN\\n\", df1_men['interest_level'].value_counts(), '\\n\\n',\n",
    "    \"WOMEN\\n\", df1_women['interest_level'].value_counts()\n",
    ")"
   ]
  },
  {
   "cell_type": "code",
   "execution_count": 179,
   "id": "911ae37cbef3250",
   "metadata": {
    "ExecuteTime": {
     "end_time": "2023-10-17T22:57:04.322156Z",
     "start_time": "2023-10-17T22:57:04.297551Z"
    },
    "collapsed": false
   },
   "outputs": [
    {
     "name": "stdout",
     "output_type": "stream",
     "text": [
      "MEN\n",
      " interest_level_cmp_it_game_dev\n",
      "3    44\n",
      "2    19\n",
      "1    18\n",
      "4     8\n",
      "5     5\n",
      "Name: count, dtype: int64 \n",
      "\n",
      " WOMEN\n",
      " interest_level_cmp_it_game_dev\n",
      "3    46\n",
      "2    38\n",
      "1    29\n",
      "4     9\n",
      "5     7\n",
      "Name: count, dtype: int64\n"
     ]
    }
   ],
   "source": [
    "## compare men and women interest in pursing comp sci, IT, or game development df2\n",
    "print(\n",
    "    \"MEN\\n\", df2_men['interest_level_cmp_it_game_dev'].value_counts(), '\\n\\n',\n",
    "    \"WOMEN\\n\", df2_women['interest_level_cmp_it_game_dev'].value_counts()\n",
    ")"
   ]
  },
  {
   "cell_type": "markdown",
   "id": "e7d7a0da",
   "metadata": {},
   "source": [
    "##### in df1, the number of men who answered the question heavily outweighs the number of women, so you can't conclude much from the data. in df2 however, you can see that the men and women count of answers is very similar for each interest level. this is cool to see because it's a good sign that both women and men who aren't exposed to a lot of computing related things still find them at least mildly intruiging."
   ]
  },
  {
   "cell_type": "markdown",
   "id": "a8f72443fb4f544f",
   "metadata": {
    "collapsed": false
   },
   "source": [
    "## 3.\tWhat percentage of people said they wanted a career switch into computer science or related majors? (df1)"
   ]
  },
  {
   "cell_type": "markdown",
   "id": "c404c334",
   "metadata": {},
   "source": [
    "#### df1"
   ]
  },
  {
   "cell_type": "code",
   "execution_count": 180,
   "id": "19ba418888c9e650",
   "metadata": {
    "ExecuteTime": {
     "end_time": "2023-10-18T00:30:04.884213Z",
     "start_time": "2023-10-18T00:30:04.878095Z"
    },
    "collapsed": false
   },
   "outputs": [
    {
     "data": {
      "text/plain": [
       "motivation[career_change]\n",
       "No     232\n",
       "Yes    103\n",
       "Name: count, dtype: int64"
      ]
     },
     "execution_count": 180,
     "metadata": {},
     "output_type": "execute_result"
    }
   ],
   "source": [
    "df1['motivation[career_change]'].value_counts()"
   ]
  },
  {
   "cell_type": "code",
   "execution_count": 194,
   "id": "7dd6491c",
   "metadata": {},
   "outputs": [],
   "source": [
    "## function to get percentage of students who answered the survey from each class\n",
    "\n",
    "def percentage_of_students(df, column):\n",
    "    return df[column].value_counts() / df[column].count() * 100"
   ]
  },
  {
   "cell_type": "code",
   "execution_count": 171,
   "id": "3a5a4366e6574b39",
   "metadata": {
    "ExecuteTime": {
     "end_time": "2023-10-18T00:32:40.654644Z",
     "start_time": "2023-10-18T00:32:40.625047Z"
    },
    "collapsed": false
   },
   "outputs": [
    {
     "data": {
      "text/plain": [
       "Text(0.5, 1.0, 'Number of students who wanted a career change - df1')"
      ]
     },
     "execution_count": 171,
     "metadata": {},
     "output_type": "execute_result"
    },
    {
     "data": {
      "image/png": "[encoded data removed]",
      "text/plain": [
       "<Figure size 640x480 with 1 Axes>"
      ]
     },
     "metadata": {},
     "output_type": "display_data"
    }
   ],
   "source": [
    "# career change motivation pie chart - df1\n",
    "plt.pie(df1['motivation[career_change]'].value_counts(), \n",
    "        labels=['No', 'Yes'])\n",
    "plt.title('Number of students who wanted a career change - df1')"
   ]
  },
  {
   "cell_type": "code",
   "execution_count": 195,
   "id": "0aae2006",
   "metadata": {},
   "outputs": [
    {
     "name": "stdout",
     "output_type": "stream",
     "text": [
      "total answers:  335 \n",
      "\n",
      " value counts\n",
      " motivation[career_change]\n",
      "No     232\n",
      "Yes    103\n",
      "Name: count, dtype: int64 \n",
      "\n",
      " percentage of students who answered the survey from each class\n",
      " motivation[career_change]\n",
      "No     69.253731\n",
      "Yes    30.746269\n",
      "Name: count, dtype: float64\n"
     ]
    }
   ],
   "source": [
    "# Display totals and percentages for df1\n",
    "print(\n",
    "    \"total answers: \", df1['motivation[career_change]'].count(), '\\n\\n',\n",
    "    \"value counts\\n\", df1['motivation[career_change]'].value_counts(), '\\n\\n',\n",
    "    \"percentage of students who wanted a career change\\n\", percentage_of_students(df1, 'motivation[career_change]') \n",
    ")"
   ]
  },
  {
   "cell_type": "markdown",
   "id": "eedf9cd7",
   "metadata": {},
   "source": [
    "#### df2"
   ]
  },
  {
   "cell_type": "code",
   "execution_count": 196,
   "id": "1ef803d98899c56c",
   "metadata": {
    "ExecuteTime": {
     "end_time": "2023-10-18T00:32:47.806172Z",
     "start_time": "2023-10-18T00:32:47.771470Z"
    },
    "collapsed": false
   },
   "outputs": [
    {
     "data": {
      "text/plain": [
       "Text(0.5, 1.0, 'Number of students who wanted a career change - df2')"
      ]
     },
     "execution_count": 196,
     "metadata": {},
     "output_type": "execute_result"
    },
    {
     "data": {
      "image/png": "[encoded data removed]",
      "text/plain": [
       "<Figure size 640x480 with 1 Axes>"
      ]
     },
     "metadata": {},
     "output_type": "display_data"
    }
   ],
   "source": [
    "# career change motivation pie chart - df1\n",
    "plt.pie(df2['motivation[career_change]'].value_counts(), \n",
    "        labels=['No', 'Yes'])\n",
    "plt.title('Number of students who wanted a career change - df2')"
   ]
  },
  {
   "cell_type": "code",
   "execution_count": 198,
   "id": "dc706009",
   "metadata": {},
   "outputs": [
    {
     "name": "stdout",
     "output_type": "stream",
     "text": [
      "total answers:  236 \n",
      "\n",
      " value counts\n",
      " motivation[career_change]\n",
      "No     205\n",
      "Yes     31\n",
      "Name: count, dtype: int64 \n",
      "\n",
      " percentage of students who answered the survey from each class\n",
      " motivation[career_change]\n",
      "No     86.864407\n",
      "Yes    13.135593\n",
      "Name: count, dtype: float64\n"
     ]
    }
   ],
   "source": [
    "# Display totals and percentages for df2\n",
    "print(\n",
    "    \"total answers: \", df2['motivation[career_change]'].count(), '\\n\\n',\n",
    "    \"value counts\\n\", df2['motivation[career_change]'].value_counts(), '\\n\\n',\n",
    "    \"percentage of students who wanted a career change\\n\", percentage_of_students(df2, 'motivation[career_change]') \n",
    ")"
   ]
  },
  {
   "cell_type": "markdown",
   "id": "0a925fe5",
   "metadata": {},
   "source": [
    "#### for df1, which is the dataset of mostly computer science majors, only about 30% of students said they got into this feild because of wanting a career change. in df2, only a mere 13% of students said they pursued a computer information class because of a career change. this can be viewed as a good thing, meaning most people didn't feel forced into pursing the class or major that they have"
   ]
  },
  {
   "cell_type": "markdown",
   "id": "703ae76c08eca30b",
   "metadata": {
    "collapsed": false
   },
   "source": [
    "## 4.\twhat percentage of the students just taking the class the class as a requirement? Which class are they in? what is their demographic? (df2)"
   ]
  },
  {
   "cell_type": "markdown",
   "id": "829dc3f9",
   "metadata": {},
   "source": [
    "#### since this question is only applicable to df2, we will only be looking at that data"
   ]
  },
  {
   "cell_type": "code",
   "execution_count": 174,
   "id": "7e2c68bb1c26334b",
   "metadata": {
    "ExecuteTime": {
     "end_time": "2023-10-18T00:35:04.936332Z",
     "start_time": "2023-10-18T00:35:04.907253Z"
    },
    "collapsed": false
   },
   "outputs": [
    {
     "data": {
      "text/plain": [
       "motivation[required_class]\n",
       "Yes    201\n",
       "No      35\n",
       "Name: count, dtype: int64"
      ]
     },
     "execution_count": 174,
     "metadata": {},
     "output_type": "execute_result"
    }
   ],
   "source": [
    "df2['motivation[required_class]'].value_counts()"
   ]
  },
  {
   "cell_type": "code",
   "execution_count": 175,
   "id": "4a27fcee8d20bb9f",
   "metadata": {
    "ExecuteTime": {
     "end_time": "2023-10-18T00:36:31.638467Z",
     "start_time": "2023-10-18T00:36:31.601228Z"
    },
    "collapsed": false
   },
   "outputs": [
    {
     "data": {
      "text/plain": [
       "Text(0.5, 1.0, 'Number of students who are taking the class as a requirement - df2')"
      ]
     },
     "execution_count": 175,
     "metadata": {},
     "output_type": "execute_result"
    },
    {
     "data": {
      "image/png": "[encoded data removed]",
      "text/plain": [
       "<Figure size 640x480 with 1 Axes>"
      ]
     },
     "metadata": {},
     "output_type": "display_data"
    }
   ],
   "source": [
    "plt.pie(df2['motivation[required_class]'].value_counts(), \n",
    "        labels=['Yes', 'No'])\n",
    "plt.title('Number of students who are taking the class as a requirement - df2')"
   ]
  },
  {
   "cell_type": "code",
   "execution_count": 199,
   "id": "7f33a669",
   "metadata": {},
   "outputs": [
    {
     "name": "stdout",
     "output_type": "stream",
     "text": [
      "total answers:  236 \n",
      "\n",
      " value counts\n",
      " motivation[required_class]\n",
      "Yes    201\n",
      "No      35\n",
      "Name: count, dtype: int64 \n",
      "\n",
      " percentage of students who are only taking the class as a requirement\n",
      " motivation[required_class]\n",
      "Yes    85.169492\n",
      "No     14.830508\n",
      "Name: count, dtype: float64\n"
     ]
    }
   ],
   "source": [
    "print(\n",
    "    \"total answers: \", df2['motivation[required_class]'].count(), '\\n\\n',\n",
    "    \"value counts\\n\", df2['motivation[required_class]'].value_counts(), '\\n\\n',\n",
    "    \"percentage of students who are only taking the class as a requirement\\n\", percentage_of_students(df2, 'motivation[required_class]') \n",
    ")"
   ]
  },
  {
   "cell_type": "markdown",
   "id": "c271d94f",
   "metadata": {},
   "source": [
    "#### As you can see from the previous code, a whopping 85% of students had to take their computer information class as a requirement for their degree. this is a little unfortunate to see, but we can remain hopeful that these students at least learn and retain something valueable from these courses!"
   ]
  },
  {
   "cell_type": "markdown",
   "id": "83d31b069d933ff0",
   "metadata": {
    "collapsed": false
   },
   "source": [
    "## 5.\tWhat percentage of students had completed some computer science activities in the past if any? What is their demographic? (either)"
   ]
  },
  {
   "cell_type": "markdown",
   "id": "d89b0c81",
   "metadata": {},
   "source": [
    "### to start this question, we should view all the questions asked again and pick out which columns would contain the information needed to come up with an answer"
   ]
  },
  {
   "cell_type": "code",
   "execution_count": 209,
   "id": "5ab4aee2",
   "metadata": {},
   "outputs": [
    {
     "data": {
      "text/plain": [
       "Index(['current_course', 'ccm_influence[ccm_website]',\n",
       "       'ccm_influence[ccm_socials]', 'ccm_influence[ccm_event]',\n",
       "       'ccm_influence[family_friends]', 'ccm_influence[ccm_student]',\n",
       "       'ccm_influence[ccm_alumni]', 'ccm_influence[high_school_teacher]',\n",
       "       'ccm_influence[high_school_counselor]', 'ccm_influence[in_app_ads]',\n",
       "       'ccm_influence[employer]', 'ccm_influence[billboard]',\n",
       "       'ccm_influence[tv]', 'ccm_influence[radio]', 'ccm_influence[home_mail]',\n",
       "       'ccm_influence[other]', 'effect_attendance[affordable]',\n",
       "       'effect_attendance[location]', 'effect_attendance[programs]',\n",
       "       'effect_attendance[online_offers]', 'effect_attendance[family_friends]',\n",
       "       'effect_attendance[faculty_staff]', 'effect_attendance[college_rep]',\n",
       "       'effect_attendance[financial_aid]', 'effect_attendance[scholarships]',\n",
       "       'effect_attendance[small_classes]',\n",
       "       'effect_attendance[extra_curricular]',\n",
       "       'effect_attendance[took_transfer_credits]',\n",
       "       'effect_attendance[bad_prev_college_exp]',\n",
       "       'effect_attendance[nj_stars]', 'effect_attendance[future_transfer]',\n",
       "       'effect_attendance[prev_college_credits]', 'ccm_event[open_house]',\n",
       "       'ccm_event[instant_decision_day]', 'ccm_event[on_campus_info_session]',\n",
       "       'ccm_event[titans_tuesday_virtual]', 'ccm_event[women_who_dare]',\n",
       "       'ccm_event[regional_college_fair]', 'ccm_event[hs_sharetime_info]',\n",
       "       'ccm_event[challenger_program]',\n",
       "       'ccm_event[cybersecurity_info_program]', 'ccm_event[hs_info_session]',\n",
       "       'ccm_event[hs_campus_visit]', 'ccm_event[alone_campus_visit]',\n",
       "       'ccm_event[workforce_dev_class]', 'ccm_event[corp_training]',\n",
       "       'ccm_event[teen_arts_fest]', 'ccm_event[ccm_summer_camp]',\n",
       "       'ccm_event[hour_of_code]',\n",
       "       'effect_computing_decision[middle_high_school_computing_class]',\n",
       "       'effect_computing_decision[middle_high_school_computing_club]',\n",
       "       'effect_computing_decision[computing_related_competitions]',\n",
       "       'effect_computing_decision[after_school_computing_camp_programs]',\n",
       "       'effect_computing_decision[summer_computing_camp]',\n",
       "       'effect_computing_decision[ap_computing_class]',\n",
       "       'effect_computing_decision[dual_enrollment_computing_class]',\n",
       "       'effect_computing_decision[family_friend_influence]',\n",
       "       'effect_computing_decision[family_friend_in_field]',\n",
       "       'effect_computing_decision[hs_teacher_counselor]',\n",
       "       'effect_computing_decision[employer_influence]',\n",
       "       'effect_computing_decision[ccm_student]',\n",
       "       'effect_computing_decision[exp_at_work]',\n",
       "       'effect_computing_decision[other]', 'current_program',\n",
       "       'motivation[computing_job]', 'motivation[transfer_to_bach_program]',\n",
       "       'motivation[get_hs_degree]', 'motivation[career_advancement]',\n",
       "       'motivation[career_change]', 'motivation[professional_development]',\n",
       "       'motivation[job_displacement]', 'motivation[relocation]',\n",
       "       'motivation[keep_current_in_tech]', 'motivation[it_industry_certs]',\n",
       "       'motivation[financial]', 'motivation[personal_enrichment]',\n",
       "       'computing_program_discovery[hs_counselor]',\n",
       "       'computing_program_discovery[hs_teacher]',\n",
       "       'computing_program_discovery[ccm_it_website]',\n",
       "       'computing_program_discovery[ccm_admissions]',\n",
       "       'computing_program_discovery[ccm_advisor]',\n",
       "       'computing_program_discovery[employer]',\n",
       "       'computing_program_discovery[ccm_workforce_development]',\n",
       "       'computing_program_discovery[nj_workforce_development]',\n",
       "       'computing_program_discovery[other]', 'computing_first_choice',\n",
       "       'interest_level', 'explanation', 'Gender', 'Race/ethnicity', 'Age'],\n",
       "      dtype='object')"
      ]
     },
     "execution_count": 209,
     "metadata": {},
     "output_type": "execute_result"
    }
   ],
   "source": [
    "df1.columns\n"
   ]
  },
  {
   "cell_type": "code",
   "execution_count": 213,
   "id": "c0af0d40",
   "metadata": {},
   "outputs": [],
   "source": [
    "coding_exp_cols_df1 = [\n",
    "    'ccm_event[cybersecurity_info_program]',\n",
    "    'ccm_event[hour_of_code]',\n",
    "    'effect_computing_decision[middle_high_school_computing_class]',\n",
    "    'effect_computing_decision[middle_high_school_computing_club]',\n",
    "    'effect_computing_decision[computing_related_competitions]',\n",
    "    'effect_computing_decision[after_school_computing_camp_programs]',\n",
    "    'effect_computing_decision[summer_computing_camp]',\n",
    "    'effect_computing_decision[ap_computing_class]',\n",
    "    'effect_computing_decision[dual_enrollment_computing_class]',\n",
    "    'effect_computing_decision[employer_influence]',\n",
    "]"
   ]
  },
  {
   "cell_type": "code",
   "execution_count": 207,
   "id": "4f436f63",
   "metadata": {},
   "outputs": [
    {
     "data": {
      "text/plain": [
       "Index(['current_course', 'ccm_influence[ccm_website]',\n",
       "       'ccm_influence[ccm_socials]', 'ccm_influence[ccm_event]',\n",
       "       'ccm_influence[family_friends]', 'ccm_influence[ccm_student]',\n",
       "       'ccm_influence[alumni]', 'ccm_influence[high_school_teacher]',\n",
       "       'ccm_influence[high_school_counselor]', 'ccm_influence[in_app_ads]',\n",
       "       'ccm_influence[employer]', 'ccm_influence[billboard]',\n",
       "       'ccm_influence[tv]', 'ccm_influence[radio]', 'ccm_influence[home_mail]',\n",
       "       'ccm_influence[other]', 'effect_attendance[affordable]',\n",
       "       'effect_attendance[location]', 'effect_attendance[programs]',\n",
       "       'effect_attendance[online_offers]', 'effect_attendance[family_friends]',\n",
       "       'effect_attendance[faculty_staff]', 'effect_attendance[college_rep]',\n",
       "       'effect_attendance[financial_aid]', 'effect_attendance[scholarships]',\n",
       "       'effect_attendance[small_classes]',\n",
       "       'effect_attendance[extra_curricular]',\n",
       "       'effect_attendance[took_transfer_credits]',\n",
       "       'effect_attendance[bad_prev_college_exp]',\n",
       "       'effect_attendance[nj_stars]', 'effect_attendance[future_transfer]',\n",
       "       'effect_attendance[prev_college_credits]', 'ccm_event[open_house]',\n",
       "       'ccm_event[instant_decision_day]', 'ccm_event[on_campus_info_session]',\n",
       "       'ccm_event[titans_tuesday_virtual]', 'ccm_event[women_who_dare]',\n",
       "       'ccm_event[regional_college_fair]', 'ccm_event[hs_sharetime_info]',\n",
       "       'ccm_event[challenger_program]',\n",
       "       'ccm_event[cybersecurity_info_program]', 'ccm_event[hs_info_session]',\n",
       "       'ccm_event[hs_campus_visit]', 'ccm_event[alone_campus_visit]',\n",
       "       'ccm_event[workforce_dev_class]', 'ccm_event[corp_training]',\n",
       "       'ccm_event[teen_arts_fest]', 'ccm_event[ccm_summer_camp]',\n",
       "       'ccm_event[hour_of_code]', 'motivation[keep_current_in_tech]',\n",
       "       'motivation[curiosity]', 'motivation[personal_enrichment]',\n",
       "       'motivation[career_advancement]', 'motivation[career_change]',\n",
       "       'motivation[professional_development]', 'motivation[job_displacement]',\n",
       "       'motivation[financial]', 'motivation[relocation]',\n",
       "       'motivation[it_industry_certs]', 'motivation[required_class]',\n",
       "       'effect_computing_decision[middle_high_school_computing_class]',\n",
       "       'effect_computing_decision[middle_high_school_computing_club]',\n",
       "       'effect_computing_decision[computing_related_competitions]',\n",
       "       'effect_computing_decision[after_school_computing_camp_programs]',\n",
       "       'effect_computing_decision[summer_computing_camp]',\n",
       "       'effect_computing_decision[ap_computing_class]',\n",
       "       'effect_computing_decision[dual_enrollment_computing_class]',\n",
       "       'effect_computing_decision[family_friend_influence]',\n",
       "       'effect_computing_decision[family_friend_in_field]',\n",
       "       'effect_computing_decision[hs_teacher_counselor]',\n",
       "       'effect_computing_decision[employer_influence]',\n",
       "       'effect_computing_decision[ccm_faculty]',\n",
       "       'effect_computing_decision[ccm_advisor_counselor]', 'current_program',\n",
       "       'computing_program_discovery[hs_counselor]',\n",
       "       'computing_program_discovery[hs_teacher]',\n",
       "       'computing_program_discovery[ccm_it_website]',\n",
       "       'computing_program_discovery[ccm_admissions]',\n",
       "       'computing_program_discovery[ccm_advisor]',\n",
       "       'computing_program_discovery[employer]',\n",
       "       'computing_program_discovery[ccm_workforce_development]',\n",
       "       'computing_program_discovery[nj_workforce_development]',\n",
       "       'computing_program_discovery[other]', 'interest_level_cmp_it_game_dev',\n",
       "       'interest_field[web_dev]', 'interest_field[cyber_security]',\n",
       "       'interest_field[app_dev]', 'interest_field[data_analysis]',\n",
       "       'interest_field[machine_learning_ai]',\n",
       "       'interest_field[computer_programming]', 'interest_field[game_design]',\n",
       "       'interest_field[hardware]', 'Gender', 'Race/ethnicity', 'Age'],\n",
       "      dtype='object')"
      ]
     },
     "execution_count": 207,
     "metadata": {},
     "output_type": "execute_result"
    }
   ],
   "source": [
    "df2.columns"
   ]
  },
  {
   "cell_type": "code",
   "execution_count": 241,
   "id": "07421741",
   "metadata": {},
   "outputs": [],
   "source": [
    "coding_exp_cols_df2 = [\n",
    "    'ccm_event[cybersecurity_info_program]',\n",
    "    'ccm_event[hour_of_code]',\n",
    "    'effect_computing_decision[middle_high_school_computing_class]',\n",
    "    'effect_computing_decision[middle_high_school_computing_club]',\n",
    "    'effect_computing_decision[computing_related_competitions]',\n",
    "    'effect_computing_decision[after_school_computing_camp_programs]',\n",
    "    'effect_computing_decision[summer_computing_camp]',\n",
    "    'effect_computing_decision[ap_computing_class]',\n",
    "    'effect_computing_decision[dual_enrollment_computing_class]',\n",
    "]"
   ]
  },
  {
   "cell_type": "code",
   "execution_count": 238,
   "id": "f4ec5bb5",
   "metadata": {},
   "outputs": [],
   "source": [
    "# function to quickly display each column's percentage of students who answered yes to having some previous coding exp.\n",
    "\n",
    "def codingExpCalc(df, colList): # take dataframe and colList\n",
    "\n",
    "    for col in colList: # for each column in the list of columns\n",
    "        \n",
    "        # display values information\n",
    "        print(\n",
    "            \"\\n\\n\\n\", col, \"\\ntotal answers: \", df[col].count(), '\\n\\n',\n",
    "            \"value counts\\n\", df[col].value_counts(), '\\n\\n',\n",
    "            \"percentage of students\\n\", percentage_of_students(df, col)\n",
    "        )\n",
    "        "
   ]
  },
  {
   "cell_type": "code",
   "execution_count": 239,
   "id": "e936cdd6",
   "metadata": {},
   "outputs": [
    {
     "name": "stdout",
     "output_type": "stream",
     "text": [
      "\n",
      "\n",
      "\n",
      " ccm_event[cybersecurity_info_program] \n",
      "total answers:  453 \n",
      "\n",
      " value counts\n",
      " ccm_event[cybersecurity_info_program]\n",
      "No          407\n",
      "Yes          27\n",
      "Not Sure     19\n",
      "Name: count, dtype: int64 \n",
      "\n",
      " percentage of students\n",
      " ccm_event[cybersecurity_info_program]\n",
      "No          89.845475\n",
      "Yes          5.960265\n",
      "Not Sure     4.194260\n",
      "Name: count, dtype: float64\n",
      "\n",
      "\n",
      "\n",
      " ccm_event[hour_of_code] \n",
      "total answers:  453 \n",
      "\n",
      " value counts\n",
      " ccm_event[hour_of_code]\n",
      "No          422\n",
      "Not Sure     19\n",
      "Yes          12\n",
      "Name: count, dtype: int64 \n",
      "\n",
      " percentage of students\n",
      " ccm_event[hour_of_code]\n",
      "No          93.156733\n",
      "Not Sure     4.194260\n",
      "Yes          2.649007\n",
      "Name: count, dtype: float64\n",
      "\n",
      "\n",
      "\n",
      " effect_computing_decision[middle_high_school_computing_class] \n",
      "total answers:  394 \n",
      "\n",
      " value counts\n",
      " effect_computing_decision[middle_high_school_computing_class]\n",
      "No Impact      177\n",
      "Some Impact    120\n",
      "High Impact     97\n",
      "Name: count, dtype: int64 \n",
      "\n",
      " percentage of students\n",
      " effect_computing_decision[middle_high_school_computing_class]\n",
      "No Impact      44.923858\n",
      "Some Impact    30.456853\n",
      "High Impact    24.619289\n",
      "Name: count, dtype: float64\n",
      "\n",
      "\n",
      "\n",
      " effect_computing_decision[middle_high_school_computing_club] \n",
      "total answers:  372 \n",
      "\n",
      " value counts\n",
      " effect_computing_decision[middle_high_school_computing_club]\n",
      "No Impact      263\n",
      "Some Impact     76\n",
      "High Impact     33\n",
      "Name: count, dtype: int64 \n",
      "\n",
      " percentage of students\n",
      " effect_computing_decision[middle_high_school_computing_club]\n",
      "No Impact      70.698925\n",
      "Some Impact    20.430108\n",
      "High Impact     8.870968\n",
      "Name: count, dtype: float64\n",
      "\n",
      "\n",
      "\n",
      " effect_computing_decision[computing_related_competitions] \n",
      "total answers:  376 \n",
      "\n",
      " value counts\n",
      " effect_computing_decision[computing_related_competitions]\n",
      "No Impact      239\n",
      "Some Impact     76\n",
      "High Impact     61\n",
      "Name: count, dtype: int64 \n",
      "\n",
      " percentage of students\n",
      " effect_computing_decision[computing_related_competitions]\n",
      "No Impact      63.563830\n",
      "Some Impact    20.212766\n",
      "High Impact    16.223404\n",
      "Name: count, dtype: float64\n",
      "\n",
      "\n",
      "\n",
      " effect_computing_decision[after_school_computing_camp_programs] \n",
      "total answers:  358 \n",
      "\n",
      " value counts\n",
      " effect_computing_decision[after_school_computing_camp_programs]\n",
      "No Impact      298\n",
      "Some Impact     42\n",
      "High Impact     18\n",
      "Name: count, dtype: int64 \n",
      "\n",
      " percentage of students\n",
      " effect_computing_decision[after_school_computing_camp_programs]\n",
      "No Impact      83.240223\n",
      "Some Impact    11.731844\n",
      "High Impact     5.027933\n",
      "Name: count, dtype: float64\n",
      "\n",
      "\n",
      "\n",
      " effect_computing_decision[summer_computing_camp] \n",
      "total answers:  359 \n",
      "\n",
      " value counts\n",
      " effect_computing_decision[summer_computing_camp]\n",
      "No Impact      309\n",
      "Some Impact     32\n",
      "High Impact     18\n",
      "Name: count, dtype: int64 \n",
      "\n",
      " percentage of students\n",
      " effect_computing_decision[summer_computing_camp]\n",
      "No Impact      86.072423\n",
      "Some Impact     8.913649\n",
      "High Impact     5.013928\n",
      "Name: count, dtype: float64\n",
      "\n",
      "\n",
      "\n",
      " effect_computing_decision[ap_computing_class] \n",
      "total answers:  358 \n",
      "\n",
      " value counts\n",
      " effect_computing_decision[ap_computing_class]\n",
      "No Impact      286\n",
      "High Impact     38\n",
      "Some Impact     34\n",
      "Name: count, dtype: int64 \n",
      "\n",
      " percentage of students\n",
      " effect_computing_decision[ap_computing_class]\n",
      "No Impact      79.888268\n",
      "High Impact    10.614525\n",
      "Some Impact     9.497207\n",
      "Name: count, dtype: float64\n",
      "\n",
      "\n",
      "\n",
      " effect_computing_decision[dual_enrollment_computing_class] \n",
      "total answers:  364 \n",
      "\n",
      " value counts\n",
      " effect_computing_decision[dual_enrollment_computing_class]\n",
      "No Impact      296\n",
      "High Impact     42\n",
      "Some Impact     26\n",
      "Name: count, dtype: int64 \n",
      "\n",
      " percentage of students\n",
      " effect_computing_decision[dual_enrollment_computing_class]\n",
      "No Impact      81.318681\n",
      "High Impact    11.538462\n",
      "Some Impact     7.142857\n",
      "Name: count, dtype: float64\n",
      "\n",
      "\n",
      "\n",
      " effect_computing_decision[employer_influence] \n",
      "total answers:  369 \n",
      "\n",
      " value counts\n",
      " effect_computing_decision[employer_influence]\n",
      "No Impact      324\n",
      "Some Impact     29\n",
      "High Impact     16\n",
      "Name: count, dtype: int64 \n",
      "\n",
      " percentage of students\n",
      " effect_computing_decision[employer_influence]\n",
      "No Impact      87.804878\n",
      "Some Impact     7.859079\n",
      "High Impact     4.336043\n",
      "Name: count, dtype: float64\n"
     ]
    }
   ],
   "source": [
    "# examining df1 columns\n",
    "codingExpCalc(df1, coding_exp_cols_df1)"
   ]
  },
  {
   "cell_type": "code",
   "execution_count": 242,
   "id": "a0f8782e",
   "metadata": {},
   "outputs": [
    {
     "name": "stdout",
     "output_type": "stream",
     "text": [
      "\n",
      "\n",
      "\n",
      " ccm_event[cybersecurity_info_program] \n",
      "total answers:  236 \n",
      "\n",
      " value counts\n",
      " ccm_event[cybersecurity_info_program]\n",
      "No          218\n",
      "Not Sure     13\n",
      "Yes           5\n",
      "Name: count, dtype: int64 \n",
      "\n",
      " percentage of students\n",
      " ccm_event[cybersecurity_info_program]\n",
      "No          92.372881\n",
      "Not Sure     5.508475\n",
      "Yes          2.118644\n",
      "Name: count, dtype: float64\n",
      "\n",
      "\n",
      "\n",
      " ccm_event[hour_of_code] \n",
      "total answers:  236 \n",
      "\n",
      " value counts\n",
      " ccm_event[hour_of_code]\n",
      "No          214\n",
      "Not Sure     18\n",
      "Yes           4\n",
      "Name: count, dtype: int64 \n",
      "\n",
      " percentage of students\n",
      " ccm_event[hour_of_code]\n",
      "No          90.677966\n",
      "Not Sure     7.627119\n",
      "Yes          1.694915\n",
      "Name: count, dtype: float64\n",
      "\n",
      "\n",
      "\n",
      " effect_computing_decision[middle_high_school_computing_class] \n",
      "total answers:  208 \n",
      "\n",
      " value counts\n",
      " effect_computing_decision[middle_high_school_computing_class]\n",
      "No Impact      145\n",
      "Some Impact     48\n",
      "High Impact     15\n",
      "Name: count, dtype: int64 \n",
      "\n",
      " percentage of students\n",
      " effect_computing_decision[middle_high_school_computing_class]\n",
      "No Impact      69.711538\n",
      "Some Impact    23.076923\n",
      "High Impact     7.211538\n",
      "Name: count, dtype: float64\n",
      "\n",
      "\n",
      "\n",
      " effect_computing_decision[middle_high_school_computing_club] \n",
      "total answers:  200 \n",
      "\n",
      " value counts\n",
      " effect_computing_decision[middle_high_school_computing_club]\n",
      "No Impact      178\n",
      "High Impact     11\n",
      "Some Impact     11\n",
      "Name: count, dtype: int64 \n",
      "\n",
      " percentage of students\n",
      " effect_computing_decision[middle_high_school_computing_club]\n",
      "No Impact      89.0\n",
      "High Impact     5.5\n",
      "Some Impact     5.5\n",
      "Name: count, dtype: float64\n",
      "\n",
      "\n",
      "\n",
      " effect_computing_decision[computing_related_competitions] \n",
      "total answers:  196 \n",
      "\n",
      " value counts\n",
      " effect_computing_decision[computing_related_competitions]\n",
      "No Impact      172\n",
      "Some Impact     17\n",
      "High Impact      7\n",
      "Name: count, dtype: int64 \n",
      "\n",
      " percentage of students\n",
      " effect_computing_decision[computing_related_competitions]\n",
      "No Impact      87.755102\n",
      "Some Impact     8.673469\n",
      "High Impact     3.571429\n",
      "Name: count, dtype: float64\n",
      "\n",
      "\n",
      "\n",
      " effect_computing_decision[after_school_computing_camp_programs] \n",
      "total answers:  195 \n",
      "\n",
      " value counts\n",
      " effect_computing_decision[after_school_computing_camp_programs]\n",
      "No Impact      175\n",
      "Some Impact     16\n",
      "High Impact      4\n",
      "Name: count, dtype: int64 \n",
      "\n",
      " percentage of students\n",
      " effect_computing_decision[after_school_computing_camp_programs]\n",
      "No Impact      89.743590\n",
      "Some Impact     8.205128\n",
      "High Impact     2.051282\n",
      "Name: count, dtype: float64\n",
      "\n",
      "\n",
      "\n",
      " effect_computing_decision[summer_computing_camp] \n",
      "total answers:  193 \n",
      "\n",
      " value counts\n",
      " effect_computing_decision[summer_computing_camp]\n",
      "No Impact      178\n",
      "Some Impact      9\n",
      "High Impact      6\n",
      "Name: count, dtype: int64 \n",
      "\n",
      " percentage of students\n",
      " effect_computing_decision[summer_computing_camp]\n",
      "No Impact      92.227979\n",
      "Some Impact     4.663212\n",
      "High Impact     3.108808\n",
      "Name: count, dtype: float64\n",
      "\n",
      "\n",
      "\n",
      " effect_computing_decision[ap_computing_class] \n",
      "total answers:  195 \n",
      "\n",
      " value counts\n",
      " effect_computing_decision[ap_computing_class]\n",
      "No Impact      179\n",
      "Some Impact     10\n",
      "High Impact      6\n",
      "Name: count, dtype: int64 \n",
      "\n",
      " percentage of students\n",
      " effect_computing_decision[ap_computing_class]\n",
      "No Impact      91.794872\n",
      "Some Impact     5.128205\n",
      "High Impact     3.076923\n",
      "Name: count, dtype: float64\n",
      "\n",
      "\n",
      "\n",
      " effect_computing_decision[dual_enrollment_computing_class] \n",
      "total answers:  196 \n",
      "\n",
      " value counts\n",
      " effect_computing_decision[dual_enrollment_computing_class]\n",
      "No Impact      174\n",
      "Some Impact     13\n",
      "High Impact      9\n",
      "Name: count, dtype: int64 \n",
      "\n",
      " percentage of students\n",
      " effect_computing_decision[dual_enrollment_computing_class]\n",
      "No Impact      88.775510\n",
      "Some Impact     6.632653\n",
      "High Impact     4.591837\n",
      "Name: count, dtype: float64\n"
     ]
    }
   ],
   "source": [
    "# examining df2 columns\n",
    "codingExpCalc(df2, coding_exp_cols_df2)"
   ]
  },
  {
   "cell_type": "markdown",
   "id": "936a13fd",
   "metadata": {},
   "source": [
    "#### According to the percentages shown in this function, we can see that most of the students replied with no to having exp in computing, or replied to no to having their exp effect their computing decision. the column that showed to have the highest impact, meaning the catagory which most students had experience, was in df1 and is the middle school high school computing class column. this column actually has more people who replied some impact and high impact, than no impact. this shows us that more people are taking middle or high school computing classes and coming to college with a little more of a computer background."
   ]
  },
  {
   "cell_type": "code",
   "execution_count": 245,
   "id": "3abc250d",
   "metadata": {},
   "outputs": [
    {
     "data": {
      "text/plain": [
       "Text(0.5, 1.0, 'Number of students who said their middle/high school computing class affected their decision to pursue a computing class- df1')"
      ]
     },
     "execution_count": 245,
     "metadata": {},
     "output_type": "execute_result"
    },
    {
     "data": {
      "image/png": "[encoded data removed]",
      "text/plain": [
       "<Figure size 640x480 with 1 Axes>"
      ]
     },
     "metadata": {},
     "output_type": "display_data"
    }
   ],
   "source": [
    "plt.bar(df1['effect_computing_decision[middle_high_school_computing_class]'].value_counts().index,\n",
    "        df1['effect_computing_decision[middle_high_school_computing_class]'].value_counts())\n",
    "plt.title('Number of students who said their middle/high school computing class affected their decision to pursue a computing class- df1')"
   ]
  },
  {
   "cell_type": "markdown",
   "id": "9c2e38e1",
   "metadata": {},
   "source": []
  }
 ],
 "metadata": {
  "kernelspec": {
   "display_name": "Python 3",
   "language": "python",
   "name": "python3"
  },
  "language_info": {
   "codemirror_mode": {
    "name": "ipython",
    "version": 3
   },
   "file_extension": ".py",
   "mimetype": "text/x-python",
   "name": "python",
   "nbconvert_exporter": "python",
   "pygments_lexer": "ipython3",
   "version": "3.11.4"
  }
 },
 "nbformat": 4,
 "nbformat_minor": 5
}
